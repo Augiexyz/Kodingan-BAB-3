{
 "cells": [
  {
   "cell_type": "code",
   "execution_count": 1,
   "id": "555afbe1",
   "metadata": {},
   "outputs": [
    {
     "name": "stdout",
     "output_type": "stream",
     "text": [
      "Requirement already satisfied: transformers in c:\\users\\asus gk\\appdata\\local\\programs\\python\\python311\\lib\\site-packages (4.51.3)Note: you may need to restart the kernel to use updated packages.\n",
      "\n",
      "Requirement already satisfied: filelock in c:\\users\\asus gk\\appdata\\local\\programs\\python\\python311\\lib\\site-packages (from transformers) (3.18.0)\n",
      "Requirement already satisfied: huggingface-hub<1.0,>=0.30.0 in c:\\users\\asus gk\\appdata\\local\\programs\\python\\python311\\lib\\site-packages (from transformers) (0.30.2)\n",
      "Requirement already satisfied: numpy>=1.17 in c:\\users\\asus gk\\appdata\\local\\programs\\python\\python311\\lib\\site-packages (from transformers) (2.2.5)\n",
      "Requirement already satisfied: packaging>=20.0 in c:\\users\\asus gk\\appdata\\roaming\\python\\python311\\site-packages (from transformers) (24.1)\n",
      "Requirement already satisfied: pyyaml>=5.1 in c:\\users\\asus gk\\appdata\\local\\programs\\python\\python311\\lib\\site-packages (from transformers) (6.0.2)\n",
      "Requirement already satisfied: regex!=2019.12.17 in c:\\users\\asus gk\\appdata\\local\\programs\\python\\python311\\lib\\site-packages (from transformers) (2024.11.6)\n",
      "Requirement already satisfied: requests in c:\\users\\asus gk\\appdata\\local\\programs\\python\\python311\\lib\\site-packages (from transformers) (2.32.3)\n",
      "Requirement already satisfied: tokenizers<0.22,>=0.21 in c:\\users\\asus gk\\appdata\\local\\programs\\python\\python311\\lib\\site-packages (from transformers) (0.21.1)\n",
      "Requirement already satisfied: safetensors>=0.4.3 in c:\\users\\asus gk\\appdata\\local\\programs\\python\\python311\\lib\\site-packages (from transformers) (0.5.3)\n",
      "Requirement already satisfied: tqdm>=4.27 in c:\\users\\asus gk\\appdata\\local\\programs\\python\\python311\\lib\\site-packages (from transformers) (4.67.1)\n",
      "Requirement already satisfied: fsspec>=2023.5.0 in c:\\users\\asus gk\\appdata\\local\\programs\\python\\python311\\lib\\site-packages (from huggingface-hub<1.0,>=0.30.0->transformers) (2025.3.2)\n",
      "Requirement already satisfied: typing-extensions>=3.7.4.3 in c:\\users\\asus gk\\appdata\\roaming\\python\\python311\\site-packages (from huggingface-hub<1.0,>=0.30.0->transformers) (4.12.2)\n",
      "Requirement already satisfied: colorama in c:\\users\\asus gk\\appdata\\roaming\\python\\python311\\site-packages (from tqdm>=4.27->transformers) (0.4.6)\n",
      "Requirement already satisfied: charset-normalizer<4,>=2 in c:\\users\\asus gk\\appdata\\local\\programs\\python\\python311\\lib\\site-packages (from requests->transformers) (3.4.1)\n",
      "Requirement already satisfied: idna<4,>=2.5 in c:\\users\\asus gk\\appdata\\local\\programs\\python\\python311\\lib\\site-packages (from requests->transformers) (3.10)\n",
      "Requirement already satisfied: urllib3<3,>=1.21.1 in c:\\users\\asus gk\\appdata\\local\\programs\\python\\python311\\lib\\site-packages (from requests->transformers) (2.3.0)\n",
      "Requirement already satisfied: certifi>=2017.4.17 in c:\\users\\asus gk\\appdata\\local\\programs\\python\\python311\\lib\\site-packages (from requests->transformers) (2025.1.31)\n"
     ]
    },
    {
     "name": "stderr",
     "output_type": "stream",
     "text": [
      "\n",
      "[notice] A new release of pip available: 22.3 -> 25.1.1\n",
      "[notice] To update, run: python.exe -m pip install --upgrade pip\n"
     ]
    }
   ],
   "source": [
    "pip install transformers"
   ]
  },
  {
   "cell_type": "code",
   "execution_count": 2,
   "id": "a8730d18",
   "metadata": {},
   "outputs": [
    {
     "name": "stdout",
     "output_type": "stream",
     "text": [
      "Requirement already satisfied: torch in c:\\users\\asus gk\\appdata\\local\\programs\\python\\python311\\lib\\site-packages (2.7.0)\n",
      "Requirement already satisfied: filelock in c:\\users\\asus gk\\appdata\\local\\programs\\python\\python311\\lib\\site-packages (from torch) (3.18.0)\n",
      "Requirement already satisfied: typing-extensions>=4.10.0 in c:\\users\\asus gk\\appdata\\roaming\\python\\python311\\site-packages (from torch) (4.12.2)\n",
      "Requirement already satisfied: sympy>=1.13.3 in c:\\users\\asus gk\\appdata\\local\\programs\\python\\python311\\lib\\site-packages (from torch) (1.14.0)\n",
      "Requirement already satisfied: networkx in c:\\users\\asus gk\\appdata\\local\\programs\\python\\python311\\lib\\site-packages (from torch) (3.4.2)\n",
      "Requirement already satisfied: jinja2 in c:\\users\\asus gk\\appdata\\local\\programs\\python\\python311\\lib\\site-packages (from torch) (3.1.6)\n",
      "Requirement already satisfied: fsspec in c:\\users\\asus gk\\appdata\\local\\programs\\python\\python311\\lib\\site-packages (from torch) (2025.3.2)\n",
      "Requirement already satisfied: mpmath<1.4,>=1.1.0 in c:\\users\\asus gk\\appdata\\local\\programs\\python\\python311\\lib\\site-packages (from sympy>=1.13.3->torch) (1.3.0)\n",
      "Requirement already satisfied: MarkupSafe>=2.0 in c:\\users\\asus gk\\appdata\\local\\programs\\python\\python311\\lib\\site-packages (from jinja2->torch) (3.0.2)\n",
      "Note: you may need to restart the kernel to use updated packages.\n"
     ]
    },
    {
     "name": "stderr",
     "output_type": "stream",
     "text": [
      "\n",
      "[notice] A new release of pip available: 22.3 -> 25.1.1\n",
      "[notice] To update, run: python.exe -m pip install --upgrade pip\n"
     ]
    }
   ],
   "source": [
    "pip install torch -i https://pypi.org/simple"
   ]
  },
  {
   "cell_type": "code",
   "execution_count": 3,
   "id": "5fac09af",
   "metadata": {},
   "outputs": [
    {
     "name": "stdout",
     "output_type": "stream",
     "text": [
      "Requirement already satisfied: pandas in c:\\users\\asus gk\\appdata\\local\\programs\\python\\python311\\lib\\site-packages (2.2.3)\n",
      "Requirement already satisfied: numpy>=1.23.2 in c:\\users\\asus gk\\appdata\\local\\programs\\python\\python311\\lib\\site-packages (from pandas) (2.2.5)\n",
      "Requirement already satisfied: python-dateutil>=2.8.2 in c:\\users\\asus gk\\appdata\\roaming\\python\\python311\\site-packages (from pandas) (2.9.0.post0)\n",
      "Requirement already satisfied: pytz>=2020.1 in c:\\users\\asus gk\\appdata\\local\\programs\\python\\python311\\lib\\site-packages (from pandas) (2025.2)\n",
      "Requirement already satisfied: tzdata>=2022.7 in c:\\users\\asus gk\\appdata\\local\\programs\\python\\python311\\lib\\site-packages (from pandas) (2025.2)\n",
      "Requirement already satisfied: six>=1.5 in c:\\users\\asus gk\\appdata\\roaming\\python\\python311\\site-packages (from python-dateutil>=2.8.2->pandas) (1.16.0)\n",
      "Note: you may need to restart the kernel to use updated packages.\n"
     ]
    },
    {
     "name": "stderr",
     "output_type": "stream",
     "text": [
      "\n",
      "[notice] A new release of pip available: 22.3 -> 25.1.1\n",
      "[notice] To update, run: python.exe -m pip install --upgrade pip\n"
     ]
    }
   ],
   "source": [
    "pip install pandas"
   ]
  },
  {
   "cell_type": "code",
   "execution_count": 4,
   "id": "b894c822",
   "metadata": {},
   "outputs": [
    {
     "name": "stderr",
     "output_type": "stream",
     "text": [
      "c:\\Users\\Asus Gk\\AppData\\Local\\Programs\\Python\\Python311\\Lib\\site-packages\\tqdm\\auto.py:21: TqdmWarning: IProgress not found. Please update jupyter and ipywidgets. See https://ipywidgets.readthedocs.io/en/stable/user_install.html\n",
      "  from .autonotebook import tqdm as notebook_tqdm\n"
     ]
    },
    {
     "name": "stdout",
     "output_type": "stream",
     "text": [
      "                                             Comment Sentiment\n",
      "0  Yang bilang saya menjilat.. lha wong kenyataaa...   positif\n",
      "1  Berarti Indonesia tidak miskin seperti dugaan ...   positif\n",
      "2  😂😂😂😂😂😂 rata rata yg komen disini pendukung Mul...   positif\n",
      "3  Orang yng mengatakan IKN  mangkrak, orang itu ...   positif\n",
      "4      IKN..indonesia ku semakin jaya amin ya Allahu   negatif\n",
      "5  Yang bilang ikn mangkrak itu manusia yang kaya...   positif\n",
      "6         gasama amin rais mas.😂 keruangam mewahnya,   negatif\n",
      "7                                   IKN memang keren   negatif\n",
      "8                 Soto kok gak blh make kecap knp om   positif\n",
      "9  Surabaya hadir. Alhamdulillah. Terimakasih Cin...    netral\n",
      "✅ File berhasil disimpan: YT_comments_labelled.csv\n"
     ]
    }
   ],
   "source": [
    "import pandas as pd\n",
    "from transformers import AutoTokenizer, AutoModelForSequenceClassification\n",
    "import torch\n",
    "\n",
    "model_name = \"w11wo/indonesian-roberta-base-sentiment-classifier\"\n",
    "tokenizer = AutoTokenizer.from_pretrained(model_name)\n",
    "model = AutoModelForSequenceClassification.from_pretrained(model_name)\n",
    "model.eval()\n",
    "\n",
    "def predict_sentiment_batch(texts, batch_size=32):\n",
    "    sentiments = []\n",
    "    for i in range(0, len(texts), batch_size):\n",
    "        batch_texts = texts[i:i+batch_size]\n",
    "        inputs = tokenizer(\n",
    "            batch_texts,\n",
    "            return_tensors=\"pt\",\n",
    "            padding=True,\n",
    "            truncation=True,\n",
    "            max_length=512,\n",
    "            return_token_type_ids=False\n",
    "        )\n",
    "        with torch.no_grad():\n",
    "            outputs = model(**inputs)\n",
    "        probs = torch.nn.functional.softmax(outputs.logits, dim=-1)\n",
    "        labels = torch.argmax(probs, dim=1).tolist()\n",
    "        sentiments.extend([\"negatif\", \"netral\", \"positif\"][label] for label in labels)\n",
    "    return sentiments\n",
    "\n",
    "df = pd.read_csv(\"YT_comments_IKN.csv\")\n",
    "df[\"Sentiment\"] = predict_sentiment_batch(df[\"Comment\"].tolist(), batch_size=32)\n",
    "\n",
    "print(df[[\"Comment\", \"Sentiment\"]].head(10))\n",
    "df.to_csv(\"YT_comments_labelled.csv\", index=False)\n",
    "print(\"✅ File berhasil disimpan: YT_comments_labelled.csv\")\n"
   ]
  },
  {
   "cell_type": "code",
   "execution_count": 7,
   "id": "3223c0fe",
   "metadata": {},
   "outputs": [
    {
     "name": "stdout",
     "output_type": "stream",
     "text": [
      "+----+---------------------------------------------------------------------------------------------------------------------------------------------+-------------+\n",
      "|    | ShortComment                                                                                                                                | Sentiment   |\n",
      "+====+=============================================================================================================================================+=============+\n",
      "|  0 | Yang bilang saya menjilat.. lha wong kenyataaannya memang ada pembangunan.. kalo mangkrak itu ditinggalkan dan tidak ada yg kerja.. saya... | positif     |\n",
      "+----+---------------------------------------------------------------------------------------------------------------------------------------------+-------------+\n",
      "|  1 | Berarti Indonesia tidak miskin seperti dugaan orang malaydes😅                                                                              | positif     |\n",
      "+----+---------------------------------------------------------------------------------------------------------------------------------------------+-------------+\n",
      "|  2 | 😂😂😂😂😂😂 rata rata yg komen disini pendukung Mulyono ini..penipu semua                                                                  | positif     |\n",
      "+----+---------------------------------------------------------------------------------------------------------------------------------------------+-------------+\n",
      "|  3 | Orang yng mengatakan IKN mangkrak, orang itu bodoh gak tahu apa-apa, tahunya dia cuma lewat mensos coba datang kesini di...                 | positif     |\n",
      "+----+---------------------------------------------------------------------------------------------------------------------------------------------+-------------+\n",
      "|  4 | IKN..indonesia ku semakin jaya amin ya Allahu                                                                                               | negatif     |\n",
      "+----+---------------------------------------------------------------------------------------------------------------------------------------------+-------------+\n",
      "|  5 | Yang bilang ikn mangkrak itu manusia yang kayak Anjing'.                                                                                    | positif     |\n",
      "+----+---------------------------------------------------------------------------------------------------------------------------------------------+-------------+\n",
      "|  6 | gasama amin rais mas.😂 keruangam mewahnya,                                                                                                 | negatif     |\n",
      "+----+---------------------------------------------------------------------------------------------------------------------------------------------+-------------+\n",
      "|  7 | IKN memang keren                                                                                                                            | negatif     |\n",
      "+----+---------------------------------------------------------------------------------------------------------------------------------------------+-------------+\n",
      "|  8 | Soto kok gak blh make kecap knp om                                                                                                          | positif     |\n",
      "+----+---------------------------------------------------------------------------------------------------------------------------------------------+-------------+\n",
      "|  9 | Surabaya hadir. Alhamdulillah. Terimakasih Cindo yang sudah melaporkan pembangunan IKN.                                                     | netral      |\n",
      "+----+---------------------------------------------------------------------------------------------------------------------------------------------+-------------+\n"
     ]
    }
   ],
   "source": [
    "from tabulate import tabulate\n",
    "import pandas as pd\n",
    "\n",
    "# Fungsi potong komentar\n",
    "def potong_komentar(teks, max_kata=20):\n",
    "    kata = teks.split()\n",
    "    if len(kata) > max_kata:\n",
    "        return ' '.join(kata[:max_kata]) + \"...\"\n",
    "    return teks\n",
    "\n",
    "# Baca file hasil label\n",
    "df = pd.read_csv(\"YT_comments_labelled.csv\")\n",
    "\n",
    "# Potong komentar panjang\n",
    "df[\"ShortComment\"] = df[\"Comment\"].apply(lambda x: potong_komentar(str(x), 20))\n",
    "\n",
    "# Tampilkan komentar singkat dan label (maks 10 baris)\n",
    "print(tabulate(df[[\"ShortComment\", \"Sentiment\"]].head(10), headers=\"keys\", tablefmt=\"grid\"))\n"
   ]
  }
 ],
 "metadata": {
  "kernelspec": {
   "display_name": "Python 3",
   "language": "python",
   "name": "python3"
  },
  "language_info": {
   "codemirror_mode": {
    "name": "ipython",
    "version": 3
   },
   "file_extension": ".py",
   "mimetype": "text/x-python",
   "name": "python",
   "nbconvert_exporter": "python",
   "pygments_lexer": "ipython3",
   "version": "3.11.0"
  }
 },
 "nbformat": 4,
 "nbformat_minor": 5
}
