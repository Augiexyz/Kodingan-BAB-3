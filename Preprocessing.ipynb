{
 "cells": [
  {
   "cell_type": "code",
   "execution_count": 1,
   "id": "162d1cd2",
   "metadata": {},
   "outputs": [
    {
     "name": "stdout",
     "output_type": "stream",
     "text": [
      "Requirement already satisfied: nltk in c:\\users\\asus gk\\appdata\\local\\programs\\python\\python311\\lib\\site-packages (3.9.1)\n",
      "Requirement already satisfied: click in c:\\users\\asus gk\\appdata\\local\\programs\\python\\python311\\lib\\site-packages (from nltk) (8.2.0)\n",
      "Requirement already satisfied: joblib in c:\\users\\asus gk\\appdata\\local\\programs\\python\\python311\\lib\\site-packages (from nltk) (1.5.0)\n",
      "Requirement already satisfied: regex>=2021.8.3 in c:\\users\\asus gk\\appdata\\local\\programs\\python\\python311\\lib\\site-packages (from nltk) (2024.11.6)\n",
      "Requirement already satisfied: tqdm in c:\\users\\asus gk\\appdata\\local\\programs\\python\\python311\\lib\\site-packages (from nltk) (4.67.1)\n",
      "Requirement already satisfied: colorama in c:\\users\\asus gk\\appdata\\roaming\\python\\python311\\site-packages (from click->nltk) (0.4.6)\n",
      "Note: you may need to restart the kernel to use updated packages.\n"
     ]
    },
    {
     "name": "stderr",
     "output_type": "stream",
     "text": [
      "\n",
      "[notice] A new release of pip available: 22.3 -> 25.1.1\n",
      "[notice] To update, run: python.exe -m pip install --upgrade pip\n"
     ]
    }
   ],
   "source": [
    "pip install nltk"
   ]
  },
  {
   "cell_type": "code",
   "execution_count": 2,
   "id": "8f75c17d",
   "metadata": {},
   "outputs": [
    {
     "name": "stdout",
     "output_type": "stream",
     "text": [
      "Requirement already satisfied: Sastrawi in c:\\users\\asus gk\\appdata\\local\\programs\\python\\python311\\lib\\site-packages (1.0.1)\n",
      "Note: you may need to restart the kernel to use updated packages.\n"
     ]
    },
    {
     "name": "stderr",
     "output_type": "stream",
     "text": [
      "\n",
      "[notice] A new release of pip available: 22.3 -> 25.1.1\n",
      "[notice] To update, run: python.exe -m pip install --upgrade pip\n"
     ]
    }
   ],
   "source": [
    "pip install Sastrawi\n"
   ]
  },
  {
   "cell_type": "code",
   "execution_count": 3,
   "id": "7a39aeb0",
   "metadata": {},
   "outputs": [
    {
     "name": "stdout",
     "output_type": "stream",
     "text": [
      "Requirement already satisfied: pandas in c:\\users\\asus gk\\appdata\\local\\programs\\python\\python311\\lib\\site-packages (2.2.3)\n",
      "Requirement already satisfied: numpy>=1.23.2 in c:\\users\\asus gk\\appdata\\local\\programs\\python\\python311\\lib\\site-packages (from pandas) (2.2.5)\n",
      "Requirement already satisfied: python-dateutil>=2.8.2 in c:\\users\\asus gk\\appdata\\roaming\\python\\python311\\site-packages (from pandas) (2.9.0.post0)\n",
      "Requirement already satisfied: pytz>=2020.1 in c:\\users\\asus gk\\appdata\\local\\programs\\python\\python311\\lib\\site-packages (from pandas) (2025.2)\n",
      "Requirement already satisfied: tzdata>=2022.7 in c:\\users\\asus gk\\appdata\\local\\programs\\python\\python311\\lib\\site-packages (from pandas) (2025.2)\n",
      "Requirement already satisfied: six>=1.5 in c:\\users\\asus gk\\appdata\\roaming\\python\\python311\\site-packages (from python-dateutil>=2.8.2->pandas) (1.16.0)\n",
      "Note: you may need to restart the kernel to use updated packages.\n"
     ]
    },
    {
     "name": "stderr",
     "output_type": "stream",
     "text": [
      "\n",
      "[notice] A new release of pip available: 22.3 -> 25.1.1\n",
      "[notice] To update, run: python.exe -m pip install --upgrade pip\n"
     ]
    }
   ],
   "source": [
    "pip install pandas"
   ]
  },
  {
   "cell_type": "code",
   "execution_count": 4,
   "id": "e96c6f6f",
   "metadata": {},
   "outputs": [
    {
     "name": "stdout",
     "output_type": "stream",
     "text": [
      "Requirement already satisfied: emoji in c:\\users\\asus gk\\appdata\\local\\programs\\python\\python311\\lib\\site-packages (2.14.1)\n",
      "Note: you may need to restart the kernel to use updated packages.\n"
     ]
    },
    {
     "name": "stderr",
     "output_type": "stream",
     "text": [
      "\n",
      "[notice] A new release of pip available: 22.3 -> 25.1.1\n",
      "[notice] To update, run: python.exe -m pip install --upgrade pip\n"
     ]
    }
   ],
   "source": [
    "pip install emoji"
   ]
  },
  {
   "cell_type": "code",
   "execution_count": null,
   "id": "a876fc18",
   "metadata": {},
   "outputs": [
    {
     "name": "stderr",
     "output_type": "stream",
     "text": [
      "[nltk_data] Downloading package stopwords to C:\\Users\\Asus\n",
      "[nltk_data]     Gk\\AppData\\Roaming\\nltk_data...\n",
      "[nltk_data]   Package stopwords is already up-to-date!\n"
     ]
    },
    {
     "name": "stdout",
     "output_type": "stream",
     "text": [
      "✅ Preprocessing selesai, file disimpan: YT_comments_labelled_preprocessed.csv\n",
      "                                             Comment  \\\n",
      "0  Yang bilang saya menjilat.. lha wong kenyataaa...   \n",
      "1  Berarti Indonesia tidak miskin seperti dugaan ...   \n",
      "2  😂😂😂😂😂😂 rata rata yg komen disini pendukung Mul...   \n",
      "3  Orang yng mengatakan IKN  mangkrak, orang itu ...   \n",
      "4      IKN..indonesia ku semakin jaya amin ya Allahu   \n",
      "5  Yang bilang ikn mangkrak itu manusia yang kaya...   \n",
      "6         gasama amin rais mas.😂 keruangam mewahnya,   \n",
      "7                                   IKN memang keren   \n",
      "8                 Soto kok gak blh make kecap knp om   \n",
      "9  Surabaya hadir. Alhamdulillah. Terimakasih Cin...   \n",
      "\n",
      "                                Comment_Preprocessed Sentiment  \n",
      "0  bilang jilat lha kenyataaannya bangun kalo man...   positif  \n",
      "1               indonesia miskin duga orang malaydes   positif  \n",
      "2                     komen dukung mulyono inipenipu   positif  \n",
      "3  orang yng ikn mangkrak orang bodoh apaapa tahu...   positif  \n",
      "4                iknindonesia ku jaya amin ya allahu   negatif  \n",
      "5           bilang ikn mangkrak manusia kayak anjing   positif  \n",
      "6               gasama amin rais mas keruangam mewah   negatif  \n",
      "7                                          ikn keren   negatif  \n",
      "8                         soto blh make kecap knp om   positif  \n",
      "9  surabaya hadir alhamdulillah terimakasih cindo...    netral  \n"
     ]
    }
   ],
   "source": [
    "import re\n",
    "import pandas as pd\n",
    "import nltk\n",
    "import emoji\n",
    "from nltk.corpus import stopwords\n",
    "from Sastrawi.Stemmer.StemmerFactory import StemmerFactory\n",
    "\n",
    "# Download stopwords jika belum pernah\n",
    "nltk.download('stopwords')\n",
    "\n",
    "# Inisialisasi stemmer dan stopwords\n",
    "factory = StemmerFactory()\n",
    "stemmer = factory.create_stemmer()\n",
    "stop_words = set(stopwords.words('indonesian'))\n",
    "\n",
    "# Normalisasi kata tidak baku → baku\n",
    "normalisasi_kata = {\n",
    "    \"gak\": \"tidak\",\n",
    "    \"ga\": \"tidak\",\n",
    "    \"tdk\": \"tidak\",\n",
    "    \"yg\": \"yang\",\n",
    "    \"dg\": \"dengan\",\n",
    "    # tambahkan sesuai kebutuhan\n",
    "}\n",
    "\n",
    "# Fungsi untuk menghapus emoji dan emotikon\n",
    "def hapus_emoji_dan_emot(text):\n",
    "    # Hapus emoji menggunakan library emoji\n",
    "    text = emoji.replace_emoji(text, replace='')\n",
    "\n",
    "    # Hapus emotikon klasik seperti :-) :D dll\n",
    "    text = re.sub(r'[:;=8][\\-o\\*\\']?[\\)\\]\\(\\[dDpP/\\:\\}\\{@\\|\\\\]', '', text)\n",
    "\n",
    "    return text\n",
    "\n",
    "# Fungsi preprocessing lengkap\n",
    "def preprocess(text):\n",
    "    text = str(text).lower()\n",
    "    text = hapus_emoji_dan_emot(text)\n",
    "    text = re.sub(r\"http\\S+|www\\S+|https\\S+\", \"\", text)  # hapus link\n",
    "    text = re.sub(r\"\\d+\", \"\", text)                      # hapus angka\n",
    "    text = re.sub(r\"[^\\w\\s]\", \"\", text)                  # hapus tanda baca\n",
    "    text = re.sub(r\"\\s+\", \" \", text).strip()             # hapus spasi berlebih\n",
    "\n",
    "    # Tokenizing, normalisasi, stopword removal, stemming\n",
    "    tokens = text.split()\n",
    "    tokens = [normalisasi_kata.get(word, word) for word in tokens]\n",
    "    tokens = [word for word in tokens if word not in stop_words]\n",
    "    tokens = [stemmer.stem(word) for word in tokens]\n",
    "\n",
    "    return \" \".join(tokens)\n",
    "\n",
    "# Baca file CSV\n",
    "df = pd.read_csv(\"YT_comments_labelled.csv\")\n",
    "\n",
    "# Terapkan preprocessing\n",
    "df[\"Comment_Preprocessed\"] = df[\"Comment\"].apply(preprocess)\n",
    "\n",
    "# Simpan ke file baru\n",
    "df.to_csv(\"YT_comments_labelled_preprocessed.csv\", index=False)\n",
    "\n",
    "# Tampilkan hasil awal\n",
    "print(\"✅ Preprocessing selesai, file disimpan: YT_comments_labelled_preprocessed.csv\")\n",
    "print(df[[\"Comment\", \"Comment_Preprocessed\", \"Sentiment\"]].head(10))\n"
   ]
  },
  {
   "cell_type": "code",
   "execution_count": 15,
   "id": "a0ee7366",
   "metadata": {},
   "outputs": [
    {
     "name": "stdout",
     "output_type": "stream",
     "text": [
      "+----+------------------------------------------------------------------------------------------------------------------------------------------+---------------------------------------------------------------------------------------------------------------------------------------+-------------+\n",
      "|    | Comment (20 kata)                                                                                                                        | Preprocessed (20 kata)                                                                                                                | Sentiment   |\n",
      "+====+==========================================================================================================================================+=======================================================================================================================================+=============+\n",
      "|  0 | Yang bilang saya menjilat.. lha wong kenyataaannya memang ada pembangunan.. kalo mangkrak itu ditinggalkan dan tidak ada yg kerja.. saya | bilang jilat lha kenyataaannya bangun kalo mangkrak tinggal kerja balikpapan opening yoong motor aja jalan ikn ya bukti omong netizen | positif     |\n",
      "+----+------------------------------------------------------------------------------------------------------------------------------------------+---------------------------------------------------------------------------------------------------------------------------------------+-------------+\n",
      "|  1 | Berarti Indonesia tidak miskin seperti dugaan orang malaydes😅                                                                           | indonesia miskin duga orang malaydes                                                                                                  | positif     |\n",
      "+----+------------------------------------------------------------------------------------------------------------------------------------------+---------------------------------------------------------------------------------------------------------------------------------------+-------------+\n",
      "|  2 | 😂😂😂😂😂😂 rata rata yg komen disini pendukung Mulyono ini..penipu semua                                                               | komen dukung mulyono inipenipu                                                                                                        | positif     |\n",
      "+----+------------------------------------------------------------------------------------------------------------------------------------------+---------------------------------------------------------------------------------------------------------------------------------------+-------------+\n",
      "|  3 | Orang yng mengatakan IKN mangkrak, orang itu bodoh gak tahu apa-apa, tahunya dia cuma lewat mensos coba datang kesini di                 | orang yng ikn mangkrak orang bodoh apaapa tahu mensos coba kesini ikn biar                                                            | positif     |\n",
      "+----+------------------------------------------------------------------------------------------------------------------------------------------+---------------------------------------------------------------------------------------------------------------------------------------+-------------+\n",
      "|  4 | IKN..indonesia ku semakin jaya amin ya Allahu                                                                                            | iknindonesia ku jaya amin ya allahu                                                                                                   | negatif     |\n",
      "+----+------------------------------------------------------------------------------------------------------------------------------------------+---------------------------------------------------------------------------------------------------------------------------------------+-------------+\n",
      "|  5 | Yang bilang ikn mangkrak itu manusia yang kayak Anjing'.                                                                                 | bilang ikn mangkrak manusia kayak anjing                                                                                              | positif     |\n",
      "+----+------------------------------------------------------------------------------------------------------------------------------------------+---------------------------------------------------------------------------------------------------------------------------------------+-------------+\n",
      "|  6 | gasama amin rais mas.😂 keruangam mewahnya,                                                                                              | gasama amin rais mas keruangam mewah                                                                                                  | negatif     |\n",
      "+----+------------------------------------------------------------------------------------------------------------------------------------------+---------------------------------------------------------------------------------------------------------------------------------------+-------------+\n",
      "|  7 | IKN memang keren                                                                                                                         | ikn keren                                                                                                                             | negatif     |\n",
      "+----+------------------------------------------------------------------------------------------------------------------------------------------+---------------------------------------------------------------------------------------------------------------------------------------+-------------+\n",
      "|  8 | Soto kok gak blh make kecap knp om                                                                                                       | soto blh make kecap knp om                                                                                                            | positif     |\n",
      "+----+------------------------------------------------------------------------------------------------------------------------------------------+---------------------------------------------------------------------------------------------------------------------------------------+-------------+\n",
      "|  9 | Surabaya hadir. Alhamdulillah. Terimakasih Cindo yang sudah melaporkan pembangunan IKN.                                                  | surabaya hadir alhamdulillah terimakasih cindo lapor bangun ikn                                                                       | netral      |\n",
      "+----+------------------------------------------------------------------------------------------------------------------------------------------+---------------------------------------------------------------------------------------------------------------------------------------+-------------+\n"
     ]
    }
   ],
   "source": [
    "import pandas as pd\n",
    "from tabulate import tabulate\n",
    "\n",
    "# Baca file CSV hasil preprocessing\n",
    "df = pd.read_csv(\"YT_comments_labelled_preprocessed.csv\")\n",
    "\n",
    "# Fungsi untuk memotong teks jadi maksimal 20 kata\n",
    "def potong_20_kata(teks):\n",
    "    return ' '.join(str(teks).split()[:20])\n",
    "\n",
    "# Potong kolom komentar asli dan hasil preprocessing\n",
    "df[\"Comment_20\"] = df[\"Comment\"].apply(potong_20_kata)\n",
    "df[\"Comment_Preprocessed_20\"] = df[\"Comment_Preprocessed\"].apply(potong_20_kata)\n",
    "\n",
    "# Tampilkan 10 data pertama dalam bentuk tabel\n",
    "print(tabulate(\n",
    "    df[[\"Comment_20\", \"Comment_Preprocessed_20\", \"Sentiment\"]].head(10),\n",
    "    headers=[\"Comment (20 kata)\", \"Preprocessed (20 kata)\", \"Sentiment\"],\n",
    "    tablefmt=\"grid\"\n",
    "))\n"
   ]
  }
 ],
 "metadata": {
  "kernelspec": {
   "display_name": "Python 3",
   "language": "python",
   "name": "python3"
  },
  "language_info": {
   "codemirror_mode": {
    "name": "ipython",
    "version": 3
   },
   "file_extension": ".py",
   "mimetype": "text/x-python",
   "name": "python",
   "nbconvert_exporter": "python",
   "pygments_lexer": "ipython3",
   "version": "3.11.0"
  }
 },
 "nbformat": 4,
 "nbformat_minor": 5
}
